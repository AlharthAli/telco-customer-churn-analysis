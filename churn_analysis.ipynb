{
 "cells": [
  {
   "cell_type": "code",
   "execution_count": null,
   "id": "24646d2d",
   "metadata": {},
   "outputs": [],
   "source": [
    "import pandas as pd\n",
    "import sqlite3\n"
   ]
  },
  {
   "cell_type": "code",
   "execution_count": null,
   "id": "0275931a",
   "metadata": {},
   "outputs": [],
   "source": [
    "from IPython.display import clear_output\n",
    "clear_output(wait=True)\n"
   ]
  },
  {
   "cell_type": "code",
   "execution_count": null,
   "id": "21c72bf9",
   "metadata": {},
   "outputs": [],
   "source": [
    "# Load CSV file into a pandas DataFrame\n",
    "df = pd.read_csv('data/Telco-Customer-Churn.csv')\n",
    "df.head()\n"
   ]
  },
  {
   "cell_type": "code",
   "execution_count": null,
   "id": "74cfdd43",
   "metadata": {},
   "outputs": [],
   "source": [
    "# Convert TotalCharges to numeric (some rows are blank)\n",
    "df['TotalCharges'] = pd.to_numeric(df['TotalCharges'], errors='coerce')\n",
    "\n",
    "# Drop rows where TotalCharges is NaN\n",
    "df = df.dropna(subset=['TotalCharges'])\n",
    "\n",
    "# Optional: Reset index after dropping rows\n",
    "df.reset_index(drop=True, inplace=True)\n",
    "\n",
    "df.info()\n"
   ]
  },
  {
   "cell_type": "code",
   "execution_count": null,
   "id": "63a1d376",
   "metadata": {},
   "outputs": [],
   "source": [
    "# Create SQLite in-memory database connection\n",
    "conn = sqlite3.connect(':memory:')\n",
    "\n",
    "# Load DataFrame into a table named 'customers'\n",
    "df.to_sql('customers', conn, index=False, if_exists='replace')\n",
    "\n",
    "print(\"✅ Data loaded into SQLite\")\n"
   ]
  },
  {
   "cell_type": "code",
   "execution_count": null,
   "id": "27420404",
   "metadata": {},
   "outputs": [],
   "source": [
    "query = \"\"\"\n",
    "SELECT \n",
    "    gender, \n",
    "    SeniorCitizen, \n",
    "    Partner, \n",
    "    Dependents, \n",
    "    COUNT(*) AS total_customers,\n",
    "    SUM(CASE WHEN Churn = 'Yes' THEN 1 ELSE 0 END) AS churned_customers,\n",
    "    ROUND(SUM(CASE WHEN Churn = 'Yes' THEN 1 ELSE 0 END) * 100.0 / COUNT(*), 2) AS churn_rate\n",
    "FROM customers\n",
    "GROUP BY gender, SeniorCitizen, Partner, Dependents\n",
    "ORDER BY churn_rate DESC\n",
    "LIMIT 10;\n",
    "\"\"\"\n",
    "\n",
    "churn_rates = pd.read_sql_query(query, conn)\n",
    "churn_rates\n"
   ]
  },
  {
   "cell_type": "code",
   "execution_count": null,
   "id": "9f9421ca",
   "metadata": {},
   "outputs": [],
   "source": [
    "import matplotlib.pyplot as plt\n",
    "\n",
    "churn_rates.plot(\n",
    "    x='churn_rate',\n",
    "    y='total_customers',\n",
    "    kind='barh',\n",
    "    title='Churn Rate by Demographic Group',\n",
    "    figsize=(10, 6)\n",
    ")\n",
    "plt.xlabel(\"Churn Rate (%)\")\n",
    "plt.ylabel(\"Customer Group\")\n",
    "plt.show()\n"
   ]
  },
  {
   "cell_type": "code",
   "execution_count": null,
   "id": "a1001b6d",
   "metadata": {},
   "outputs": [],
   "source": [
    "query = \"\"\"\n",
    "SELECT \n",
    "    Contract, \n",
    "    PaymentMethod,\n",
    "    COUNT(*) AS total_customers,\n",
    "    SUM(CASE WHEN Churn = 'Yes' THEN 1 ELSE 0 END) AS churned_customers,\n",
    "    ROUND(SUM(CASE WHEN Churn = 'Yes' THEN 1 ELSE 0 END) * 100.0 / COUNT(*), 2) AS churn_rate\n",
    "FROM customers\n",
    "GROUP BY Contract, PaymentMethod\n",
    "ORDER BY churn_rate DESC\n",
    "LIMIT 10;\n",
    "\"\"\"\n",
    "\n",
    "contract_churn = pd.read_sql_query(query, conn)\n",
    "contract_churn\n"
   ]
  },
  {
   "cell_type": "code",
   "execution_count": null,
   "id": "5f3a7cf3",
   "metadata": {},
   "outputs": [],
   "source": [
    "query = \"\"\"\n",
    "SELECT \n",
    "    Churn,\n",
    "    ROUND(AVG(MonthlyCharges), 2) AS avg_monthly_charges,\n",
    "    ROUND(AVG(tenure), 2) AS avg_tenure_months,\n",
    "    COUNT(*) AS customer_count\n",
    "FROM customers\n",
    "GROUP BY Churn;\n",
    "\"\"\"\n",
    "\n",
    "churn_summary = pd.read_sql_query(query, conn)\n",
    "churn_summary\n"
   ]
  },
  {
   "cell_type": "code",
   "execution_count": null,
   "id": "bdb06d28",
   "metadata": {},
   "outputs": [],
   "source": [
    "import matplotlib.pyplot as plt\n",
    "\n",
    "churn_summary.plot(\n",
    "    x='Churn',\n",
    "    y=['avg_monthly_charges', 'avg_tenure_months'],\n",
    "    kind='bar',\n",
    "    figsize=(8, 6),\n",
    "    title='Average Monthly Charges and Tenure by Churn Status'\n",
    ")\n",
    "plt.ylabel('Average Value')\n",
    "plt.show()\n"
   ]
  }
 ],
 "metadata": {
  "kernelspec": {
   "display_name": "Python 3",
   "language": "python",
   "name": "python3"
  },
  "language_info": {
   "codemirror_mode": {
    "name": "ipython",
    "version": 3
   },
   "file_extension": ".py",
   "mimetype": "text/x-python",
   "name": "python",
   "nbconvert_exporter": "python",
   "pygments_lexer": "ipython3",
   "version": "3.13.7"
  }
 },
 "nbformat": 4,
 "nbformat_minor": 5
}
